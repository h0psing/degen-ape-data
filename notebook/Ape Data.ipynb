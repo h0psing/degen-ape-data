{
 "cells": [
  {
   "cell_type": "code",
   "execution_count": 1,
   "id": "dc497fff",
   "metadata": {},
   "outputs": [],
   "source": [
    "import os\n",
    "\n",
    "DATA_PATH = '../data'\n"
   ]
  },
  {
   "cell_type": "code",
   "execution_count": 2,
   "id": "92e9439d",
   "metadata": {},
   "outputs": [],
   "source": [
    "import json\n",
    "from collections import defaultdict\n",
    "\n",
    "idx = defaultdict(set)\n",
    "apes = {}\n",
    "\n",
    "for filename in os.listdir(DATA_PATH):\n",
    "    path = os.path.join(DATA_PATH, filename)\n",
    "    with open(path, 'r') as f:\n",
    "        metadata = json.load(f)\n",
    "\n",
    "    ape_num = -1\n",
    "    traits = set()\n",
    "    \n",
    "    for attr in metadata['Properties']['attributes']:\n",
    "        if 'display_type' in attr:\n",
    "            if attr['trait_type'] == 'sequence':\n",
    "                ape_num = attr['value']\n",
    "        else:\n",
    "            traits.add(attr['value'])\n",
    "    for trait in traits:\n",
    "        idx[trait].add(ape_num)\n",
    "        apes[ape_num] = traits"
   ]
  },
  {
   "cell_type": "code",
   "execution_count": 9,
   "id": "e9d9d8b1",
   "metadata": {},
   "outputs": [
    {
     "data": {
      "application/vnd.jupyter.widget-view+json": {
       "model_id": "cdfb87e1477842cc9de0a9ae867acd85",
       "version_major": 2,
       "version_minor": 0
      },
      "text/plain": [
       "SelectMultiple(description='Traits', options=('3d Glasses', '6pc Tendies', 'Academy Uniform', 'Acid Trip', 'Al…"
      ]
     },
     "metadata": {},
     "output_type": "display_data"
    }
   ],
   "source": [
    "\n",
    "import ipywidgets as widgets\n",
    "w = widgets.SelectMultiple(\n",
    "    options=sorted(idx.keys()),\n",
    "    rows=20,\n",
    "    description='Traits',\n",
    "    disabled=False\n",
    ")\n",
    "display(w)\n"
   ]
  },
  {
   "cell_type": "code",
   "execution_count": 11,
   "id": "cc528879",
   "metadata": {},
   "outputs": [
    {
     "data": {
      "text/plain": [
       "('Biggie Sweater',)"
      ]
     },
     "execution_count": 11,
     "metadata": {},
     "output_type": "execute_result"
    }
   ],
   "source": [
    "w.value"
   ]
  },
  {
   "cell_type": "code",
   "execution_count": 12,
   "id": "0d53602a",
   "metadata": {},
   "outputs": [
    {
     "name": "stdout",
     "output_type": "stream",
     "text": [
      "26 Apes share this selection of traits:\n",
      "Ape #7940\n",
      "Ape #1543\n",
      "Ape #8716\n",
      "Ape #5901\n",
      "Ape #1807\n",
      "Ape #6351\n",
      "Ape #7959\n",
      "Ape #6423\n",
      "Ape #3351\n",
      "Ape #4571\n",
      "Ape #8795\n",
      "Ape #8671\n",
      "Ape #2144\n",
      "Ape #1314\n",
      "Ape #2275\n",
      "Ape #3836\n",
      "Ape #293\n",
      "Ape #7336\n",
      "Ape #1258\n",
      "Ape #3698\n",
      "Ape #9081\n",
      "Ape #1018\n",
      "Ape #1787\n",
      "Ape #7292\n",
      "Ape #4733\n",
      "Ape #4030\n",
      "0.26% of the population\n"
     ]
    }
   ],
   "source": [
    "svc = set()\n",
    "if len(w.value):\n",
    "    svc = set.intersection(*[idx[sel] for sel in w.value])\n",
    "print(f\"{len(svc)} Apes share this selection of traits:\")\n",
    "for ape_num in svc:\n",
    "    print(f\"Ape #{ape_num}\")\n",
    "    \n",
    "print(\"{:.2%} of the population\".format(len(svc) / len(apes)))"
   ]
  },
  {
   "cell_type": "code",
   "execution_count": null,
   "id": "5b507fb5",
   "metadata": {},
   "outputs": [],
   "source": []
  }
 ],
 "metadata": {
  "kernelspec": {
   "display_name": "Python 3 (ipykernel)",
   "language": "python",
   "name": "python3"
  },
  "language_info": {
   "codemirror_mode": {
    "name": "ipython",
    "version": 3
   },
   "file_extension": ".py",
   "mimetype": "text/x-python",
   "name": "python",
   "nbconvert_exporter": "python",
   "pygments_lexer": "ipython3",
   "version": "3.9.6"
  }
 },
 "nbformat": 4,
 "nbformat_minor": 5
}
