{
 "cells": [
  {
   "cell_type": "code",
   "execution_count": null,
   "id": "dc497fff",
   "metadata": {},
   "outputs": [],
   "source": [
    "import os\n",
    "\n",
    "DATA_PATH = '../data'\n",
    "os.system('ls ' + DATA_PATH)"
   ]
  },
  {
   "cell_type": "code",
   "execution_count": null,
   "id": "92e9439d",
   "metadata": {},
   "outputs": [],
   "source": [
    "import json\n",
    "from collections import defaultdict\n",
    "\n",
    "idx = defaultdict(set)\n",
    "apes = {}\n",
    "\n",
    "for filename in os.listdir(DATA_PATH):\n",
    "    path = os.path.join(DATA_PATH, filename)\n",
    "    print(path)\n",
    "\n",
    "    with open(path, 'r') as f:\n",
    "        metadata = json.load(f)\n",
    "\n",
    "    ape_num = -1\n",
    "    traits = set()\n",
    "    \n",
    "    for attr in metadata['Properties']['attributes']:\n",
    "        if 'display_type' in attr:\n",
    "            if attr['trait_type'] == 'sequence':\n",
    "                ape_num = attr['value']\n",
    "        else:\n",
    "            traits.add(attr['value'])\n",
    "    for trait in traits:\n",
    "        idx[trait].add(ape_num)\n",
    "        apes[ape_num] = traits"
   ]
  },
  {
   "cell_type": "code",
   "execution_count": null,
   "id": "e2065dcc",
   "metadata": {},
   "outputs": [],
   "source": [
    "idx.keys()"
   ]
  },
  {
   "cell_type": "code",
   "execution_count": null,
   "id": "e9d9d8b1",
   "metadata": {},
   "outputs": [],
   "source": [
    "set.intersection(idx['Acid Trip'], idx['Degen Service Shirt'])"
   ]
  }
 ],
 "metadata": {
  "kernelspec": {
   "display_name": "Python 3",
   "language": "python",
   "name": "python3"
  },
  "language_info": {
   "codemirror_mode": {
    "name": "ipython",
    "version": 3
   },
   "file_extension": ".py",
   "mimetype": "text/x-python",
   "name": "python",
   "nbconvert_exporter": "python",
   "pygments_lexer": "ipython3",
   "version": "3.9.6"
  }
 },
 "nbformat": 4,
 "nbformat_minor": 5
}
